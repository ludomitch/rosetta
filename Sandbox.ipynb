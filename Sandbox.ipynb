{
 "cells": [
  {
   "cell_type": "code",
   "execution_count": 1,
   "metadata": {},
   "outputs": [],
   "source": [
    "import nltk\n",
    "# nltk.download('vader_lexicon')\n",
    "import pandas as pd\n",
    "import csv\n",
    "eng = pd.read_csv('en-de/train.ende.src', sep=\"\\n\", error_bad_lines=False, quoting=csv.QUOTE_NONE).values.tolist()\n",
    "ger = pd.read_csv('en-de/train.ende.mt', sep=\"\\n\", error_bad_lines=False,quoting=csv.QUOTE_NONE).values.tolist()\n",
    "scores = pd.read_csv('en-de/train.ende.scores', sep=\"\\n\", error_bad_lines=False,quoting=csv.QUOTE_NONE).values.tolist()\n",
    "scores = [i[0] for i in scores]"
   ]
  },
  {
   "cell_type": "code",
   "execution_count": null,
   "metadata": {
    "collapsed": true
   },
   "outputs": [],
   "source": [
    "# import nltk\n",
    "# import ssl\n",
    "\n",
    "# try:\n",
    "#     _create_unverified_https_context = ssl._create_unverified_context\n",
    "# except AttributeError:\n",
    "#     pass\n",
    "# else:\n",
    "#     ssl._create_default_https_context = _create_unverified_https_context\n",
    "\n",
    "# nltk.download('vader_lexicon')"
   ]
  },
  {
   "cell_type": "code",
   "execution_count": 2,
   "metadata": {},
   "outputs": [],
   "source": [
    "import string\n",
    "def preprocessing(lst):\n",
    "    \n",
    "    # Remove punctuation and lower-case\n",
    "#     res = [i[0].lower().translate(str.maketrans('', '', string.punctuation)) for i in lst]\n",
    "    # Remove stop words\n",
    "    res = [i[0] for i in lst]\n",
    "    return res\n",
    "eng = preprocessing(eng)\n"
   ]
  },
  {
   "cell_type": "code",
   "execution_count": 17,
   "metadata": {},
   "outputs": [],
   "source": [
    "import language_check\n",
    "en_checker = language_check.LanguageTool('en-GB')\n",
    "ge_checker = language_check.LanguageTool('de-DE')\n",
    "for text in eng:\n",
    "    matches = tool.check(text)\n",
    "    if len(matches)>0:\n",
    "        break\n"
   ]
  },
  {
   "cell_type": "code",
   "execution_count": 27,
   "metadata": {},
   "outputs": [
    {
     "name": "stdout",
     "output_type": "stream",
     "text": [
      "In his diary, Chase wrote that the release of Mason and Slidell \"…was like gall and wormwood to me.\n"
     ]
    },
    {
     "data": {
      "text/plain": [
       "Match({'fromy': 0, 'fromx': 56, 'toy': 0, 'tox': 63, 'ruleId': 'MORFOLOGIK_RULE_EN_US', 'msg': 'Possible spelling mistake found', 'replacements': ['Slide', 'Slides', 'Slider', 'Sliders', 'Snidely'], 'context': '...ase wrote that the release of Mason and Slidell \"…was like gall and wormwood to me.', 'contextoffset': 43, 'offset': 56, 'errorlength': 7, 'category': 'Possible Typo', 'locqualityissuetype': 'misspelling'})"
      ]
     },
     "execution_count": 27,
     "metadata": {},
     "output_type": "execute_result"
    }
   ],
   "source": [
    "print(text)\n",
    "# for i in matches:\n",
    "#     print(i['msg'])\n",
    "matches[0]"
   ]
  },
  {
   "cell_type": "code",
   "execution_count": null,
   "metadata": {},
   "outputs": [],
   "source": [
    "from nltk.sentiment.vader import SentimentIntensityAnalyzer\n",
    "sid = SentimentIntensityAnalyzer()\n",
    "sid.polarity_scores(eng[0])"
   ]
  },
  {
   "cell_type": "markdown",
   "metadata": {},
   "source": [
    "# Features\n",
    "\n",
    "Sentiment analysis\n",
    "Tense (future, past, present)\n",
    "Grammatical sanity\n",
    "possesive features (like Ludo<'s>)\n"
   ]
  },
  {
   "cell_type": "code",
   "execution_count": null,
   "metadata": {
    "collapsed": true
   },
   "outputs": [],
   "source": [
    "Do we assume english text to be accurate?\n",
    "Approx same number of rules\n",
    "English\n",
    "Variants for: Australian, Canadian, GB, New Zealand, South African, US\t2790\n",
    "German\n",
    "Variants for: Austria, Germany, Swiss\t2894"
   ]
  },
  {
   "cell_type": "code",
   "execution_count": null,
   "metadata": {
    "collapsed": true
   },
   "outputs": [],
   "source": [
    "# For downloading language check need to install java8 and configure permissions\n",
    "https://stackoverflow.com/questions/24342886/how-to-install-java-8-on-mac\n",
    "https://github.com/myint/language-check/issues/59\n",
    "https://github.com/myint/language-check/issues/31\n",
    "https://stackoverflow.com/questions/40684543/how-to-make-python-use-ca-certificates-from-mac-os-truststore"
   ]
  }
 ],
 "metadata": {
  "kernelspec": {
   "display_name": "Python 3",
   "language": "python",
   "name": "python3"
  },
  "language_info": {
   "codemirror_mode": {
    "name": "ipython",
    "version": 3
   },
   "file_extension": ".py",
   "mimetype": "text/x-python",
   "name": "python",
   "nbconvert_exporter": "python",
   "pygments_lexer": "ipython3",
   "version": "3.6.2"
  }
 },
 "nbformat": 4,
 "nbformat_minor": 2
}
